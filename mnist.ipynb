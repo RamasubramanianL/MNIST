{
  "nbformat": 4,
  "nbformat_minor": 0,
  "metadata": {
    "colab": {
      "name": "mnist.ipynb",
      "provenance": [],
      "collapsed_sections": []
    },
    "kernelspec": {
      "name": "python3",
      "display_name": "Python 3"
    }
  },
  "cells": [
    {
      "cell_type": "code",
      "metadata": {
        "id": "Vh2BZZ2EaGa-"
      },
      "source": [
        "from sklearn.metrics import confusion_matrix\n",
        "import keras\n",
        "from keras.datasets import mnist\n",
        "from keras.models import Sequential\n",
        "from keras.layers import Dense, Dropout, Flatten\n",
        "from keras import backend as K\n",
        "import matplotlib.pyplot as plt\n"
      ],
      "execution_count": 3,
      "outputs": []
    },
    {
      "cell_type": "code",
      "metadata": {
        "id": "okoT_bBwaLyh"
      },
      "source": [
        "batch_size = 128\n",
        "num_classes = 10\n",
        "epochs = 5\n",
        "\n",
        "# input image dimensions\n",
        "img_rows, img_cols = 28, 28"
      ],
      "execution_count": 4,
      "outputs": []
    },
    {
      "cell_type": "code",
      "metadata": {
        "id": "9ekYYRRmaOke",
        "colab": {
          "base_uri": "https://localhost:8080/"
        },
        "outputId": "806bd1a7-7b4f-478b-c373-a7b6d15f612b"
      },
      "source": [
        "(x_train, y_train), (x_test, y_test) = mnist.load_data()"
      ],
      "execution_count": 5,
      "outputs": [
        {
          "output_type": "stream",
          "text": [
            "Downloading data from https://storage.googleapis.com/tensorflow/tf-keras-datasets/mnist.npz\n",
            "11493376/11490434 [==============================] - 0s 0us/step\n"
          ],
          "name": "stdout"
        }
      ]
    },
    {
      "cell_type": "code",
      "metadata": {
        "id": "JEaB1oe_aZNr",
        "colab": {
          "base_uri": "https://localhost:8080/"
        },
        "outputId": "f39dd217-53d9-4fff-f22f-083d12fe1759"
      },
      "source": [
        "x_train.shape"
      ],
      "execution_count": 6,
      "outputs": [
        {
          "output_type": "execute_result",
          "data": {
            "text/plain": [
              "(60000, 28, 28)"
            ]
          },
          "metadata": {
            "tags": []
          },
          "execution_count": 6
        }
      ]
    },
    {
      "cell_type": "code",
      "metadata": {
        "id": "OgCD_YxLadwI",
        "colab": {
          "base_uri": "https://localhost:8080/"
        },
        "outputId": "abe43673-45c9-47e4-f8ef-a7b61b1b68ef"
      },
      "source": [
        "x_test.shape"
      ],
      "execution_count": 7,
      "outputs": [
        {
          "output_type": "execute_result",
          "data": {
            "text/plain": [
              "(10000, 28, 28)"
            ]
          },
          "metadata": {
            "tags": []
          },
          "execution_count": 7
        }
      ]
    },
    {
      "cell_type": "code",
      "metadata": {
        "id": "Z3QoGOdtaiGp"
      },
      "source": [
        "num_pixels = x_train.shape[1] * x_train.shape[2]\n",
        "x_train = x_train.reshape(x_train.shape[0], num_pixels).astype('float32')\n",
        "x_test = x_test.reshape(x_test.shape[0], num_pixels).astype('float32')\n",
        "\n",
        "x_train = x_train.astype('float32')\n",
        "x_test = x_test.astype('float32')\n",
        "x_train /= 255\n",
        "x_test /= 255"
      ],
      "execution_count": 8,
      "outputs": []
    },
    {
      "cell_type": "code",
      "metadata": {
        "colab": {
          "base_uri": "https://localhost:8080/"
        },
        "id": "deRjXMD5NOhf",
        "outputId": "3c164743-975d-48b7-8d0c-9b213f4d4d5f"
      },
      "source": [
        "x_train.shape"
      ],
      "execution_count": 9,
      "outputs": [
        {
          "output_type": "execute_result",
          "data": {
            "text/plain": [
              "(60000, 784)"
            ]
          },
          "metadata": {
            "tags": []
          },
          "execution_count": 9
        }
      ]
    },
    {
      "cell_type": "code",
      "metadata": {
        "id": "wk9cHIDDl2EV",
        "colab": {
          "base_uri": "https://localhost:8080/",
          "height": 298
        },
        "outputId": "72449157-cf79-4060-feaf-3adc47bf22d1"
      },
      "source": [
        "img=x_train[7]\n",
        "img=img.reshape((28,28))\n",
        "plt.imshow(img)\n",
        "plt.title(y_train[7])"
      ],
      "execution_count": 10,
      "outputs": [
        {
          "output_type": "execute_result",
          "data": {
            "text/plain": [
              "Text(0.5, 1.0, '3')"
            ]
          },
          "metadata": {
            "tags": []
          },
          "execution_count": 10
        },
        {
          "output_type": "display_data",
          "data": {
            "image/png": "[encoded data removed]",
            "text/plain": [
              "<Figure size 432x288 with 1 Axes>"
            ]
          },
          "metadata": {
            "tags": [],
            "needs_background": "light"
          }
        }
      ]
    },
    {
      "cell_type": "code",
      "metadata": {
        "id": "HKSGaT_-asmL",
        "colab": {
          "base_uri": "https://localhost:8080/"
        },
        "outputId": "ba3dc6a8-757f-4e57-ffe8-ca77d53a2761"
      },
      "source": [
        "print('x_train shape:', x_train.shape)\n",
        "print(x_train.shape[0], 'train samples')\n",
        "print(x_test.shape[0], 'test samples')\n"
      ],
      "execution_count": 11,
      "outputs": [
        {
          "output_type": "stream",
          "text": [
            "x_train shape: (60000, 784)\n",
            "60000 train samples\n",
            "10000 test samples\n"
          ],
          "name": "stdout"
        }
      ]
    },
    {
      "cell_type": "code",
      "metadata": {
        "id": "8eVYs9w521NR",
        "colab": {
          "base_uri": "https://localhost:8080/"
        },
        "outputId": "8cff17ad-7d9e-46e1-8d49-e7f92a5a39f2"
      },
      "source": [
        "import numpy as np\n",
        "np.unique(y_train)"
      ],
      "execution_count": 12,
      "outputs": [
        {
          "output_type": "execute_result",
          "data": {
            "text/plain": [
              "array([0, 1, 2, 3, 4, 5, 6, 7, 8, 9], dtype=uint8)"
            ]
          },
          "metadata": {
            "tags": []
          },
          "execution_count": 12
        }
      ]
    },
    {
      "cell_type": "code",
      "metadata": {
        "id": "kGci39x5axpX"
      },
      "source": [
        "# convert class vectors to binary class matrices\n",
        "y_train = keras.utils.to_categorical(y_train, num_classes)\n",
        "y_test = keras.utils.to_categorical(y_test, num_classes)"
      ],
      "execution_count": 13,
      "outputs": []
    },
    {
      "cell_type": "code",
      "metadata": {
        "id": "3WK3ecvl3YOZ",
        "colab": {
          "base_uri": "https://localhost:8080/"
        },
        "outputId": "2af72129-c192-4b5e-907a-cb10f64940d4"
      },
      "source": [
        "y_train"
      ],
      "execution_count": 14,
      "outputs": [
        {
          "output_type": "execute_result",
          "data": {
            "text/plain": [
              "array([[0., 0., 0., ..., 0., 0., 0.],\n",
              "       [1., 0., 0., ..., 0., 0., 0.],\n",
              "       [0., 0., 0., ..., 0., 0., 0.],\n",
              "       ...,\n",
              "       [0., 0., 0., ..., 0., 0., 0.],\n",
              "       [0., 0., 0., ..., 0., 0., 0.],\n",
              "       [0., 0., 0., ..., 0., 1., 0.]], dtype=float32)"
            ]
          },
          "metadata": {
            "tags": []
          },
          "execution_count": 14
        }
      ]
    },
    {
      "cell_type": "code",
      "metadata": {
        "id": "CYbUCOaka3bC"
      },
      "source": [
        "model = Sequential()\n",
        "model.add(Dense(num_pixels, input_dim=num_pixels, kernel_initializer='normal', activation='relu'))\n",
        "model.add(Dense(100, kernel_initializer='normal', activation='relu'))\n",
        "model.add(Dense(100, kernel_initializer='normal', activation='relu'))\n",
        "model.add(Dense(num_classes, kernel_initializer='normal', activation='softmax'))"
      ],
      "execution_count": 15,
      "outputs": []
    },
    {
      "cell_type": "code",
      "metadata": {
        "id": "9RFZ3P5za8M3"
      },
      "source": [
        "model.compile(loss=keras.losses.categorical_crossentropy,\n",
        "              optimizer=\"adam\",\n",
        "              metrics=['accuracy'])"
      ],
      "execution_count": 16,
      "outputs": []
    },
    {
      "cell_type": "code",
      "metadata": {
        "id": "kvSkTpuebBU0",
        "colab": {
          "base_uri": "https://localhost:8080/"
        },
        "outputId": "ddd63b75-9caf-48a2-b72e-7b9c558ca1cb"
      },
      "source": [
        "model.fit(x_train, y_train,\n",
        "          batch_size=batch_size,\n",
        "          epochs=10,\n",
        "          verbose=1,\n",
        "          validation_data=(x_test, y_test))"
      ],
      "execution_count": 17,
      "outputs": [
        {
          "output_type": "stream",
          "text": [
            "Epoch 1/10\n",
            "469/469 [==============================] - 8s 15ms/step - loss: 0.5645 - accuracy: 0.8440 - val_loss: 0.1226 - val_accuracy: 0.9607\n",
            "Epoch 2/10\n",
            "469/469 [==============================] - 7s 14ms/step - loss: 0.1023 - accuracy: 0.9691 - val_loss: 0.0928 - val_accuracy: 0.9709\n",
            "Epoch 3/10\n",
            "469/469 [==============================] - 7s 14ms/step - loss: 0.0622 - accuracy: 0.9806 - val_loss: 0.0777 - val_accuracy: 0.9764\n",
            "Epoch 4/10\n",
            "469/469 [==============================] - 7s 14ms/step - loss: 0.0400 - accuracy: 0.9876 - val_loss: 0.0790 - val_accuracy: 0.9775\n",
            "Epoch 5/10\n",
            "469/469 [==============================] - 7s 14ms/step - loss: 0.0303 - accuracy: 0.9901 - val_loss: 0.0898 - val_accuracy: 0.9743\n",
            "Epoch 6/10\n",
            "469/469 [==============================] - 7s 14ms/step - loss: 0.0283 - accuracy: 0.9909 - val_loss: 0.0812 - val_accuracy: 0.9780\n",
            "Epoch 7/10\n",
            "469/469 [==============================] - 7s 15ms/step - loss: 0.0195 - accuracy: 0.9944 - val_loss: 0.0727 - val_accuracy: 0.9806\n",
            "Epoch 8/10\n",
            "469/469 [==============================] - 7s 14ms/step - loss: 0.0155 - accuracy: 0.9957 - val_loss: 0.0943 - val_accuracy: 0.9744\n",
            "Epoch 9/10\n",
            "469/469 [==============================] - 7s 14ms/step - loss: 0.0146 - accuracy: 0.9951 - val_loss: 0.0750 - val_accuracy: 0.9801\n",
            "Epoch 10/10\n",
            "469/469 [==============================] - 7s 14ms/step - loss: 0.0147 - accuracy: 0.9950 - val_loss: 0.0765 - val_accuracy: 0.9806\n"
          ],
          "name": "stdout"
        },
        {
          "output_type": "execute_result",
          "data": {
            "text/plain": [
              "<tensorflow.python.keras.callbacks.History at 0x7fda13340a10>"
            ]
          },
          "metadata": {
            "tags": []
          },
          "execution_count": 17
        }
      ]
    },
    {
      "cell_type": "code",
      "metadata": {
        "colab": {
          "base_uri": "https://localhost:8080/"
        },
        "id": "iwEUTIGKZdVO",
        "outputId": "a3b3618a-7deb-4551-ef08-f955ac9ca1aa"
      },
      "source": [
        "score=model.evaluate(x_test,y_test,verbose=0)\n",
        "print('Test loss:',score[0])\n",
        "print(\"Test accuracy:\",score[1])"
      ],
      "execution_count": 24,
      "outputs": [
        {
          "output_type": "stream",
          "text": [
            "Test loss: 0.07647998631000519\n",
            "Test accuracy: 0.9805999994277954\n"
          ],
          "name": "stdout"
        }
      ]
    },
    {
      "cell_type": "code",
      "metadata": {
        "colab": {
          "base_uri": "https://localhost:8080/"
        },
        "id": "N2l7vc4FQ4WX",
        "outputId": "d52034a6-4ab2-49b4-f01b-a45868f5dd7f"
      },
      "source": [
        "res = model.predict_classes(x_test)\n"
      ],
      "execution_count": 22,
      "outputs": [
        {
          "output_type": "stream",
          "text": [
            "/usr/local/lib/python3.7/dist-packages/tensorflow/python/keras/engine/sequential.py:450: UserWarning: `model.predict_classes()` is deprecated and will be removed after 2021-01-01. Please use instead:* `np.argmax(model.predict(x), axis=-1)`,   if your model does multi-class classification   (e.g. if it uses a `softmax` last-layer activation).* `(model.predict(x) > 0.5).astype(\"int32\")`,   if your model does binary classification   (e.g. if it uses a `sigmoid` last-layer activation).\n",
            "  warnings.warn('`model.predict_classes()` is deprecated and '\n"
          ],
          "name": "stderr"
        }
      ]
    },
    {
      "cell_type": "code",
      "metadata": {
        "id": "7nsC3UxXkTaE"
      },
      "source": [
        "Submitted by : Ramasubramanian L\n",
        "Mail id : smartsree670@gmail.com\n",
        "mobile number : 7094858229"
      ],
      "execution_count": null,
      "outputs": []
    }
  ]
}